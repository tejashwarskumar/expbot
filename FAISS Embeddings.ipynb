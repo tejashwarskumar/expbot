{
 "cells": [
  {
   "cell_type": "code",
   "execution_count": 2,
   "id": "49ecccd8-9239-4958-b92c-12ec6d80ae6b",
   "metadata": {},
   "outputs": [],
   "source": [
    "import pickle\n",
    "import faiss\n",
    "from sklearn.feature_extraction.text import TfidfVectorizer\n",
    "import numpy as np\n",
    "\n",
    "def read_qa_file(file_path):\n",
    "    questions = []\n",
    "    answers = []\n",
    "    \n",
    "    with open(file_path, 'r') as file:\n",
    "        lines = file.readlines()\n",
    "        \n",
    "        for i in range(0, len(lines), 2):\n",
    "            questions.append(lines[i].strip())\n",
    "            answers.append(lines[i+1].strip())\n",
    "    \n",
    "    return questions, answers\n",
    "\n",
    "file_path = 'qa.txt'\n",
    "questions, answers = read_qa_file(file_path)\n",
    "\n",
    "# Vectorize the questions using TF-IDF\n",
    "vectorizer = TfidfVectorizer()\n",
    "question_vectors = vectorizer.fit_transform(questions).toarray()  # Convert sparse matrix to dense\n",
    "\n",
    "# Create a FAISS index\n",
    "dimension = question_vectors.shape[1]  # Number of features (terms)\n",
    "index = faiss.IndexFlatL2(dimension)  # L2 distance (Euclidean distance) index\n",
    "\n",
    "# Add the question vectors to the index\n",
    "index.add(question_vectors.astype(np.float32))\n",
    "\n",
    "# Save the TF-IDF model, FAISS index, and questions/answers\n",
    "with open('tfidf_model.pkl', 'wb') as model_file:\n",
    "    pickle.dump(vectorizer, model_file)\n",
    "\n",
    "faiss.write_index(index, 'faiss_index.idx')\n",
    "\n",
    "with open('qa_data.pkl', 'wb') as qa_file:\n",
    "    pickle.dump({'questions': questions, 'answers': answers}, qa_file)"
   ]
  },
  {
   "cell_type": "code",
   "execution_count": null,
   "id": "37e7ef45-3e6a-42a8-b420-b1da15370f3c",
   "metadata": {},
   "outputs": [],
   "source": []
  }
 ],
 "metadata": {
  "kernelspec": {
   "display_name": "Python 3 (ipykernel)",
   "language": "python",
   "name": "python3"
  },
  "language_info": {
   "codemirror_mode": {
    "name": "ipython",
    "version": 3
   },
   "file_extension": ".py",
   "mimetype": "text/x-python",
   "name": "python",
   "nbconvert_exporter": "python",
   "pygments_lexer": "ipython3",
   "version": "3.12.7"
  }
 },
 "nbformat": 4,
 "nbformat_minor": 5
}
